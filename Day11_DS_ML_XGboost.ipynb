{
  "nbformat": 4,
  "nbformat_minor": 0,
  "metadata": {
    "colab": {
      "name": "Day11_DS_ML_XGboost.ipynb",
      "provenance": [],
      "authorship_tag": "ABX9TyNdUxENqMfYR5tqym+9UFKm",
      "include_colab_link": true
    },
    "kernelspec": {
      "name": "python3",
      "display_name": "Python 3"
    },
    "language_info": {
      "name": "python"
    }
  },
  "cells": [
    {
      "cell_type": "markdown",
      "metadata": {
        "id": "view-in-github",
        "colab_type": "text"
      },
      "source": [
        "<a href=\"https://colab.research.google.com/github/TVMSairam123/Day11_DS_ML/blob/main/Day11_DS_ML_XGboost.ipynb\" target=\"_parent\"><img src=\"https://colab.research.google.com/assets/colab-badge.svg\" alt=\"Open In Colab\"/></a>"
      ]
    },
    {
      "cell_type": "code",
      "metadata": {
        "id": "y9kl-5ktCtWl"
      },
      "source": [
        ""
      ],
      "execution_count": null,
      "outputs": []
    },
    {
      "cell_type": "markdown",
      "metadata": {
        "id": "gxOcgLrLDftX"
      },
      "source": [
        "# K-Fold Cross Validation"
      ]
    },
    {
      "cell_type": "markdown",
      "metadata": {
        "id": "Du29p3ZWDk1g"
      },
      "source": [
        "It's an iteration procedure where complete data is taken for training and testing. We need to mention the value of \"K\". For example if K= 5 then we need to perform 5 iterations and finally we need to sum the entire 5 different accuracies. \n",
        "\n",
        "for K =  1 => Fold 1 is taken for testing and Remaining 4 Folds will be taken for Training the model\n",
        "\n",
        "for k = 2 (2nd fold), the 2nd fold is taken for testing and remaning 4 folds will be taken for training the model.\n",
        "\n",
        "for each fold we will get the accuracy. Finally we need to sum entire the accuracies to identify the  mean of the entire accuracies."
      ]
    },
    {
      "cell_type": "code",
      "metadata": {
        "id": "dtnMzY_mDis1"
      },
      "source": [
        "#We are performing XGBoost algorithm\n",
        "\n",
        "#Importing libraries\n",
        "\n",
        "import pandas as pd\n",
        "import numpy as np\n",
        "import matplotlib.pyplot as plt"
      ],
      "execution_count": 2,
      "outputs": []
    },
    {
      "cell_type": "code",
      "metadata": {
        "id": "tF2t8kPTExKi"
      },
      "source": [
        "#Import the dataset\n",
        "\n",
        "dataset = pd.read_csv(\"/content/Data.csv\")\n",
        "\n",
        "x = dataset.iloc[:, :-1].values\n",
        "y = dataset.iloc[:, -1].values"
      ],
      "execution_count": 3,
      "outputs": []
    },
    {
      "cell_type": "code",
      "metadata": {
        "id": "h6itoGctFDDN"
      },
      "source": [
        "#Splitting the training and testing models\n",
        "\n",
        "from sklearn.model_selection import train_test_split\n",
        "\n",
        "x_train, x_test, y_train, y_test = train_test_split(x , y, test_size = 0.25)\n"
      ],
      "execution_count": 4,
      "outputs": []
    },
    {
      "cell_type": "code",
      "metadata": {
        "colab": {
          "base_uri": "https://localhost:8080/"
        },
        "id": "1j5upUm1FZkA",
        "outputId": "f454fb86-a17e-42d5-f486-838b3891ec0e"
      },
      "source": [
        "#train the XGBoost model\n",
        "\n",
        "from xgboost import XGBClassifier\n",
        "\n",
        "xgb = XGBClassifier()\n",
        "\n",
        "xgb.fit(x_train, y_train)"
      ],
      "execution_count": 5,
      "outputs": [
        {
          "output_type": "execute_result",
          "data": {
            "text/plain": [
              "XGBClassifier(base_score=0.5, booster='gbtree', colsample_bylevel=1,\n",
              "              colsample_bynode=1, colsample_bytree=1, gamma=0,\n",
              "              learning_rate=0.1, max_delta_step=0, max_depth=3,\n",
              "              min_child_weight=1, missing=None, n_estimators=100, n_jobs=1,\n",
              "              nthread=None, objective='binary:logistic', random_state=0,\n",
              "              reg_alpha=0, reg_lambda=1, scale_pos_weight=1, seed=None,\n",
              "              silent=None, subsample=1, verbosity=1)"
            ]
          },
          "metadata": {
            "tags": []
          },
          "execution_count": 5
        }
      ]
    },
    {
      "cell_type": "code",
      "metadata": {
        "id": "qFi5c6d0F1c7"
      },
      "source": [
        "# pip install xgboost"
      ],
      "execution_count": 6,
      "outputs": []
    },
    {
      "cell_type": "code",
      "metadata": {
        "colab": {
          "base_uri": "https://localhost:8080/"
        },
        "id": "lxrxnqkUF_nl",
        "outputId": "b265adf7-a32f-4616-9db6-3e3ed000b699"
      },
      "source": [
        "#Confusion Matrix and accuracy score\n",
        "\n",
        "y_pred = xgb.predict(x_test)\n",
        "\n",
        "from sklearn.metrics import accuracy_score, confusion_matrix\n",
        "\n",
        "cm = confusion_matrix(y_pred, y_test)\n",
        "\n",
        "print(cm)\n",
        "\n",
        "accuracy_score(y_test, y_pred)"
      ],
      "execution_count": 7,
      "outputs": [
        {
          "output_type": "stream",
          "text": [
            "[[112   0]\n",
            " [  3  56]]\n"
          ],
          "name": "stdout"
        },
        {
          "output_type": "execute_result",
          "data": {
            "text/plain": [
              "0.9824561403508771"
            ]
          },
          "metadata": {
            "tags": []
          },
          "execution_count": 7
        }
      ]
    },
    {
      "cell_type": "code",
      "metadata": {
        "colab": {
          "base_uri": "https://localhost:8080/"
        },
        "id": "M3N03hOPGcfE",
        "outputId": "ab151e31-9103-4fdc-b0e9-38071bddb6d8"
      },
      "source": [
        "#Implement K-Fold Cross Validation\n",
        "\n",
        "from sklearn.model_selection import cross_val_score\n",
        "\n",
        "accuracies = cross_val_score(estimator = xgb, X = x_train,  y = y_train, cv = 40)\n",
        "\n",
        "print(\"Accuracy : {:.2f}%\".format(accuracies.mean() * 100))\n",
        "print(\"Standard Devaition: {:.2f}%\".format(accuracies.std() * 100))"
      ],
      "execution_count": 10,
      "outputs": [
        {
          "output_type": "stream",
          "text": [
            "Accuracy : 96.14%\n",
            "Standard Devaition: 5.72%\n"
          ],
          "name": "stdout"
        }
      ]
    }
  ]
}